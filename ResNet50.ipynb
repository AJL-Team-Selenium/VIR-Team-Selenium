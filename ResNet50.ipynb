{
  "cells": [
    {
      "cell_type": "markdown",
      "metadata": {
        "id": "qcafxPBpmINg"
      },
      "source": [
        "# Equitable AI For Dermatology - Break Through Tech Team Selenium"
      ]
    },
    {
      "cell_type": "markdown",
      "metadata": {
        "id": "Ktk9Cwjsmi-X"
      },
      "source": [
        "# Set Up"
      ]
    },
    {
      "cell_type": "markdown",
      "metadata": {
        "id": "EAB1L7HHmXM_"
      },
      "source": [
        "## Importing Libraries"
      ]
    },
    {
      "cell_type": "code",
      "execution_count": 15,
      "metadata": {
        "id": "a-BmhRHtxxB9"
      },
      "outputs": [],
      "source": [
        "# 1. Import Necessary Libraries\n",
        "import pandas as pd\n",
        "import numpy as np\n",
        "import os\n",
        "from sklearn.model_selection import train_test_split\n",
        "from sklearn.preprocessing import LabelEncoder\n",
        "from tensorflow.keras.preprocessing.image import ImageDataGenerator\n",
        "from tensorflow.keras.models import Sequential\n",
        "from tensorflow.keras.layers import Conv2D, MaxPooling2D, Flatten, Dense, Dropout, BatchNormalization\n",
        "from tensorflow.keras.callbacks import EarlyStopping, ReduceLROnPlateau\n",
        "from tensorflow.keras.applications import ResNet50\n",
        "from sklearn.utils.class_weight import compute_class_weight"
      ]
    },
    {
      "cell_type": "markdown",
      "metadata": {
        "id": "tafV8b45mcpp"
      },
      "source": [
        "## Loading Data (Mounting Google Drive)"
      ]
    },
    {
      "cell_type": "code",
      "execution_count": 2,
      "metadata": {
        "colab": {
          "base_uri": "https://localhost:8080/"
        },
        "id": "Ym4j_udAoulj",
        "outputId": "14a8ae44-1efa-4b4d-ed71-7e4df2ef803c"
      },
      "outputs": [
        {
          "output_type": "stream",
          "name": "stdout",
          "text": [
            "Drive already mounted at /content/drive; to attempt to forcibly remount, call drive.mount(\"/content/drive\", force_remount=True).\n"
          ]
        }
      ],
      "source": [
        "from google.colab import drive\n",
        "drive.mount('/content/drive')"
      ]
    },
    {
      "cell_type": "code",
      "execution_count": 3,
      "metadata": {
        "colab": {
          "base_uri": "https://localhost:8080/"
        },
        "id": "OOvs3GaE2Eh0",
        "outputId": "e9ea9ba9-19e2-4500-fb3e-9286ffd19ca3"
      },
      "outputs": [
        {
          "output_type": "stream",
          "name": "stdout",
          "text": [
            "'07 01-07 04 Weekend Itinerary.gdoc'\n",
            " 1XnoQXeeTKtBC4gk9ZJwN4P_FZ4IrNmFi\n",
            " Accounts\n",
            "'AP PSYCH'\n",
            "'AR Instructions for Section 2 of I-9 Form (pdf version).pdf'\n",
            "'Arizona Renting June-August 2023'\n",
            "'AvenueE 2023-24 Program Acceptance.pdf'\n",
            " building_data_loader.ipynb\n",
            " ca_building_load_forecasting.ipynb\n",
            "'Christmas Photo Album 2022'\n",
            "'Colab Notebooks'\n",
            "'Computer Science.gsheet'\n",
            "'Consent To Record Form.pdf'\n",
            "'Copy of Buget- again..gsheet'\n",
            "'Copy of Copy of 0. Coding Interview Checklist.gdoc'\n",
            "'Copy of Copy of MM5: Ideal vs. Actual Professional Roadmap Progress (Template).gdoc'\n",
            "'Copy of ECS 164 Assignment 1, Winter 2025.gdoc'\n",
            "'Copy of [FINAL TEMPLATE] Team Alliance_Fall 2024 AI Studio.gdoc'\n",
            "'Copy of Job Hunter Google Sheets Tracking Template.gsheet'\n",
            "'Copy of Melville Scholarship Essay (500 words on impacting society).gdoc'\n",
            "'Copy of MM3: Behavioral Interview Case Study Handout (FY25).gdoc'\n",
            "'Copy of Professional Roadmap Template.gdoc'\n",
            " Counselor.gdoc\n",
            "'Cover Letter (1).gdoc'\n",
            "'Cover Letter.gdoc'\n",
            "'C++ Programming 2'\n",
            "'Creating Goals.gdoc'\n",
            " Curry.gdoc\n",
            "'Dad’s Therapy.gdoc'\n",
            "'Day One Guide_Phoenix_Undergraduate_Virtual.pdf'\n",
            "'DDAIML 1 Intern Feedback-.xlsx'\n",
            " Defiance.gdoc\n",
            "'Dick (1999).gdoc'\n",
            "'ECS 170 Quiz 6.gdoc'\n",
            "'EDC Itinerary 2021.gdoc'\n",
            "'Encounters & Foundations.gdoc'\n",
            "'Engagement Ceremony Gifts.gsheet'\n",
            "'English Powerpoint.gslides'\n",
            "'Eng. Project.gdoc'\n",
            "'Environmental Microbiology (Exam 3) .gdoc'\n",
            "'Essay 1.gdoc'\n",
            " essay.gdoc\n",
            " Faces.gdoc\n",
            "'Fermata Energy Presentation Outline.gdoc'\n",
            " Film.gdoc\n",
            "'Food Microbiology & Foodborne Illness (Exam 3).gdoc'\n",
            "'Found Poem (Night) .gdoc'\n",
            "'fried rice bruh.gdoc'\n",
            " Frustration.gdoc\n",
            "'FSA 2024 (DAD)'\n",
            "'GGHS 2013-2017'\n",
            "'G-M-Over It.gdoc'\n",
            " Grandma\n",
            " Grandpa\n",
            " Hackathon.gdoc\n",
            "'Hair + Makeup (10 12).gsheet'\n",
            " HATE.gdoc\n",
            " HEALTH_2.gdoc\n",
            " HEALTH.gdoc\n",
            "'Holocaust Poem.gdoc'\n",
            " IMG_3115.CR2\n",
            " IMG_3116.CR2\n",
            " IMG_3117.CR2\n",
            " IMG_3118.CR2\n",
            " IMG_3119.CR2\n",
            " IMG_4326.MOV\n",
            " IMG_4327.MOV\n",
            "'Informative Speech .gdoc'\n",
            "'Informative Speech Outline.gdoc'\n",
            "'Innate Immunity (Exam 4).gdoc'\n",
            "'Irish Potato Famine.gdoc'\n",
            "'itzbajb@gmail.com .gslides'\n",
            "'Japanese Internment.gdoc'\n",
            "'Jap Internment Camps.gdoc'\n",
            "'Job Application Tracker.gsheet'\n",
            " Jobs.gdoc\n",
            "\"Kohlberg's Dilemmas.gdoc\"\n",
            "'LA HACKS 2021.gdoc'\n",
            "'Little Girl, Big World: Lots to Fear.gdoc'\n",
            "'Logs Presentation.gslides'\n",
            "'Marriage Contract.gdoc'\n",
            "'Medical '\n",
            "'Meet Your Meat.gdoc'\n",
            "'Memory Snapshot Per. 1.gdoc'\n",
            "'Message to Recruiters .gdoc'\n",
            "'Mice and Men.gdoc'\n",
            "'Middle Ages.gdoc'\n",
            "'Midterm Paper.gdoc'\n",
            "'MM6: Operating Strategically Leadership Scorecard.gdoc'\n",
            "'Module 14.gdoc'\n",
            "'Module 7 - Discussion.gdoc'\n",
            "'Most Important Thing Per. 6.gdoc'\n",
            "'My One Wish.gdoc'\n",
            "'My Past Lives.gdoc'\n",
            "'NASA (ENG FINAL).gslides'\n",
            "'National Parks.gdoc'\n",
            "'NEW MEMORY SNAPSHOT.gdoc'\n",
            " Notebook.pdf\n",
            "'Obesity Discussion .gdoc'\n",
            "'OCC 2017-2023'\n",
            "'Prom Date Application.gform'\n",
            "'Pros and Cons Apartment.gdoc'\n",
            " psych.gdoc\n",
            "'PSYCH Stress Paper.docx'\n",
            "'Psych Study Guide.gdoc'\n",
            "'PSYCH TV SHOWS.gdoc'\n",
            "'Public Speaking Discussions.gdoc'\n",
            "'READ PLS.gdoc'\n",
            "'ResNet VIR_AJL_TeamSelenium_EquitableAIForDermatology.ipynb'\n",
            "'Resume Stuff'\n",
            "'School Account Backup 2023'\n",
            "'Screenshot 2024-12-03 at 3.55.35 PM.png'\n",
            "'Shared Family Drive'\n",
            "'Singapore Hotels.gsheet'\n",
            " Team-Fermata-Energy\n",
            "'Team Overview - PHX..gdoc'\n",
            "'Team Overview - PHX..pdf'\n",
            "'UC Davis'\n",
            "'UC Davis Housing (The Green '\\''23)'\n",
            "'UC Davis Roommate Search Profile .gdoc'\n",
            " Vaccinations\n",
            " Veronica_Hangsan_Resume.pdf\n",
            " VIR_AJL_Team_Selenium\n"
          ]
        }
      ],
      "source": [
        "!ls /content/drive/My\\ Drive/"
      ]
    },
    {
      "cell_type": "code",
      "execution_count": 4,
      "metadata": {
        "collapsed": true,
        "id": "ymZGJOq0I07n"
      },
      "outputs": [],
      "source": [
        "train_folder_path = '/content/drive/MyDrive/VIR_AJL_Team_Selenium/Data/train.csv'\n",
        "train_df = pd.read_csv(train_folder_path)\n",
        "\n",
        "test_folder_path = '/content/drive/MyDrive/VIR_AJL_Team_Selenium/Data/test.csv'\n",
        "test_df = pd.read_csv(test_folder_path)"
      ]
    },
    {
      "cell_type": "code",
      "execution_count": 5,
      "metadata": {
        "id": "IaJfdsuAY5S8"
      },
      "outputs": [],
      "source": [
        "# Add .jpg extension to md5hash column to reference the file_name\n",
        "train_df['md5hash'] = train_df['md5hash'].astype(str) + '.jpg'\n",
        "test_df['md5hash'] = test_df['md5hash'].astype(str) + '.jpg'\n",
        "\n",
        "# Combine label and md5hash to form the correct path\n",
        "train_df['file_path'] = train_df['label'] + '/' + train_df['md5hash']"
      ]
    },
    {
      "cell_type": "markdown",
      "metadata": {
        "id": "WKQlXfXYHgCf"
      },
      "source": [
        "# Exploratory Data Analysis"
      ]
    },
    {
      "cell_type": "code",
      "execution_count": 6,
      "metadata": {
        "colab": {
          "base_uri": "https://localhost:8080/"
        },
        "id": "ik6eNpcyHn1f",
        "outputId": "d58c8d13-3359-450d-aa9a-70f4bcc22f31"
      },
      "outputs": [
        {
          "output_type": "stream",
          "name": "stdout",
          "text": [
            "<class 'pandas.core.frame.DataFrame'>\n",
            "RangeIndex: 2860 entries, 0 to 2859\n",
            "Data columns (total 9 columns):\n",
            " #   Column                 Non-Null Count  Dtype \n",
            "---  ------                 --------------  ----- \n",
            " 0   md5hash                2860 non-null   object\n",
            " 1   fitzpatrick_scale      2860 non-null   int64 \n",
            " 2   fitzpatrick_centaur    2860 non-null   int64 \n",
            " 3   label                  2860 non-null   object\n",
            " 4   nine_partition_label   2860 non-null   object\n",
            " 5   three_partition_label  2860 non-null   object\n",
            " 6   qc                     90 non-null     object\n",
            " 7   ddi_scale              2860 non-null   int64 \n",
            " 8   file_path              2860 non-null   object\n",
            "dtypes: int64(3), object(6)\n",
            "memory usage: 201.2+ KB\n"
          ]
        }
      ],
      "source": [
        "# View information about data in each column\n",
        "train_df.info()"
      ]
    },
    {
      "cell_type": "code",
      "execution_count": 7,
      "metadata": {
        "colab": {
          "base_uri": "https://localhost:8080/",
          "height": 330
        },
        "id": "s60WR3YhgJox",
        "outputId": "a7e127a2-4130-4695-99e6-886b5babb7e2"
      },
      "outputs": [
        {
          "output_type": "execute_result",
          "data": {
            "text/plain": [
              "                                md5hash  fitzpatrick_scale  \\\n",
              "0  fd06d13de341cc75ad679916c5d7e6a6.jpg                  4   \n",
              "1  a4bb4e5206c4e89a303f470576fc5253.jpg                  1   \n",
              "2  c94ce27e389f96bda998e7c3fa5c4a2e.jpg                  5   \n",
              "3  ebcf2b50dd943c700d4e2b586fcd4425.jpg                  3   \n",
              "4  c77d6c895f05fea73a8f3704307036c0.jpg                  1   \n",
              "\n",
              "   fitzpatrick_centaur                             label nine_partition_label  \\\n",
              "0                    4                 prurigo-nodularis     benign-epidermal   \n",
              "1                    1  basal-cell-carcinoma-morpheiform  malignant-epidermal   \n",
              "2                    5                            keloid         inflammatory   \n",
              "3                    3              basal-cell-carcinoma  malignant-epidermal   \n",
              "4                    1                 prurigo-nodularis     benign-epidermal   \n",
              "\n",
              "  three_partition_label            qc  ddi_scale  \\\n",
              "0                benign           NaN         34   \n",
              "1             malignant           NaN         12   \n",
              "2        non-neoplastic  1 Diagnostic         56   \n",
              "3             malignant           NaN         34   \n",
              "4                benign           NaN         12   \n",
              "\n",
              "                                           file_path  \n",
              "0  prurigo-nodularis/fd06d13de341cc75ad679916c5d7...  \n",
              "1  basal-cell-carcinoma-morpheiform/a4bb4e5206c4e...  \n",
              "2        keloid/c94ce27e389f96bda998e7c3fa5c4a2e.jpg  \n",
              "3  basal-cell-carcinoma/ebcf2b50dd943c700d4e2b586...  \n",
              "4  prurigo-nodularis/c77d6c895f05fea73a8f37043070...  "
            ],
            "text/html": [
              "\n",
              "  <div id=\"df-5b651e3c-d555-4338-9967-5f9ee687f0ac\" class=\"colab-df-container\">\n",
              "    <div>\n",
              "<style scoped>\n",
              "    .dataframe tbody tr th:only-of-type {\n",
              "        vertical-align: middle;\n",
              "    }\n",
              "\n",
              "    .dataframe tbody tr th {\n",
              "        vertical-align: top;\n",
              "    }\n",
              "\n",
              "    .dataframe thead th {\n",
              "        text-align: right;\n",
              "    }\n",
              "</style>\n",
              "<table border=\"1\" class=\"dataframe\">\n",
              "  <thead>\n",
              "    <tr style=\"text-align: right;\">\n",
              "      <th></th>\n",
              "      <th>md5hash</th>\n",
              "      <th>fitzpatrick_scale</th>\n",
              "      <th>fitzpatrick_centaur</th>\n",
              "      <th>label</th>\n",
              "      <th>nine_partition_label</th>\n",
              "      <th>three_partition_label</th>\n",
              "      <th>qc</th>\n",
              "      <th>ddi_scale</th>\n",
              "      <th>file_path</th>\n",
              "    </tr>\n",
              "  </thead>\n",
              "  <tbody>\n",
              "    <tr>\n",
              "      <th>0</th>\n",
              "      <td>fd06d13de341cc75ad679916c5d7e6a6.jpg</td>\n",
              "      <td>4</td>\n",
              "      <td>4</td>\n",
              "      <td>prurigo-nodularis</td>\n",
              "      <td>benign-epidermal</td>\n",
              "      <td>benign</td>\n",
              "      <td>NaN</td>\n",
              "      <td>34</td>\n",
              "      <td>prurigo-nodularis/fd06d13de341cc75ad679916c5d7...</td>\n",
              "    </tr>\n",
              "    <tr>\n",
              "      <th>1</th>\n",
              "      <td>a4bb4e5206c4e89a303f470576fc5253.jpg</td>\n",
              "      <td>1</td>\n",
              "      <td>1</td>\n",
              "      <td>basal-cell-carcinoma-morpheiform</td>\n",
              "      <td>malignant-epidermal</td>\n",
              "      <td>malignant</td>\n",
              "      <td>NaN</td>\n",
              "      <td>12</td>\n",
              "      <td>basal-cell-carcinoma-morpheiform/a4bb4e5206c4e...</td>\n",
              "    </tr>\n",
              "    <tr>\n",
              "      <th>2</th>\n",
              "      <td>c94ce27e389f96bda998e7c3fa5c4a2e.jpg</td>\n",
              "      <td>5</td>\n",
              "      <td>5</td>\n",
              "      <td>keloid</td>\n",
              "      <td>inflammatory</td>\n",
              "      <td>non-neoplastic</td>\n",
              "      <td>1 Diagnostic</td>\n",
              "      <td>56</td>\n",
              "      <td>keloid/c94ce27e389f96bda998e7c3fa5c4a2e.jpg</td>\n",
              "    </tr>\n",
              "    <tr>\n",
              "      <th>3</th>\n",
              "      <td>ebcf2b50dd943c700d4e2b586fcd4425.jpg</td>\n",
              "      <td>3</td>\n",
              "      <td>3</td>\n",
              "      <td>basal-cell-carcinoma</td>\n",
              "      <td>malignant-epidermal</td>\n",
              "      <td>malignant</td>\n",
              "      <td>NaN</td>\n",
              "      <td>34</td>\n",
              "      <td>basal-cell-carcinoma/ebcf2b50dd943c700d4e2b586...</td>\n",
              "    </tr>\n",
              "    <tr>\n",
              "      <th>4</th>\n",
              "      <td>c77d6c895f05fea73a8f3704307036c0.jpg</td>\n",
              "      <td>1</td>\n",
              "      <td>1</td>\n",
              "      <td>prurigo-nodularis</td>\n",
              "      <td>benign-epidermal</td>\n",
              "      <td>benign</td>\n",
              "      <td>NaN</td>\n",
              "      <td>12</td>\n",
              "      <td>prurigo-nodularis/c77d6c895f05fea73a8f37043070...</td>\n",
              "    </tr>\n",
              "  </tbody>\n",
              "</table>\n",
              "</div>\n",
              "    <div class=\"colab-df-buttons\">\n",
              "\n",
              "  <div class=\"colab-df-container\">\n",
              "    <button class=\"colab-df-convert\" onclick=\"convertToInteractive('df-5b651e3c-d555-4338-9967-5f9ee687f0ac')\"\n",
              "            title=\"Convert this dataframe to an interactive table.\"\n",
              "            style=\"display:none;\">\n",
              "\n",
              "  <svg xmlns=\"http://www.w3.org/2000/svg\" height=\"24px\" viewBox=\"0 -960 960 960\">\n",
              "    <path d=\"M120-120v-720h720v720H120Zm60-500h600v-160H180v160Zm220 220h160v-160H400v160Zm0 220h160v-160H400v160ZM180-400h160v-160H180v160Zm440 0h160v-160H620v160ZM180-180h160v-160H180v160Zm440 0h160v-160H620v160Z\"/>\n",
              "  </svg>\n",
              "    </button>\n",
              "\n",
              "  <style>\n",
              "    .colab-df-container {\n",
              "      display:flex;\n",
              "      gap: 12px;\n",
              "    }\n",
              "\n",
              "    .colab-df-convert {\n",
              "      background-color: #E8F0FE;\n",
              "      border: none;\n",
              "      border-radius: 50%;\n",
              "      cursor: pointer;\n",
              "      display: none;\n",
              "      fill: #1967D2;\n",
              "      height: 32px;\n",
              "      padding: 0 0 0 0;\n",
              "      width: 32px;\n",
              "    }\n",
              "\n",
              "    .colab-df-convert:hover {\n",
              "      background-color: #E2EBFA;\n",
              "      box-shadow: 0px 1px 2px rgba(60, 64, 67, 0.3), 0px 1px 3px 1px rgba(60, 64, 67, 0.15);\n",
              "      fill: #174EA6;\n",
              "    }\n",
              "\n",
              "    .colab-df-buttons div {\n",
              "      margin-bottom: 4px;\n",
              "    }\n",
              "\n",
              "    [theme=dark] .colab-df-convert {\n",
              "      background-color: #3B4455;\n",
              "      fill: #D2E3FC;\n",
              "    }\n",
              "\n",
              "    [theme=dark] .colab-df-convert:hover {\n",
              "      background-color: #434B5C;\n",
              "      box-shadow: 0px 1px 3px 1px rgba(0, 0, 0, 0.15);\n",
              "      filter: drop-shadow(0px 1px 2px rgba(0, 0, 0, 0.3));\n",
              "      fill: #FFFFFF;\n",
              "    }\n",
              "  </style>\n",
              "\n",
              "    <script>\n",
              "      const buttonEl =\n",
              "        document.querySelector('#df-5b651e3c-d555-4338-9967-5f9ee687f0ac button.colab-df-convert');\n",
              "      buttonEl.style.display =\n",
              "        google.colab.kernel.accessAllowed ? 'block' : 'none';\n",
              "\n",
              "      async function convertToInteractive(key) {\n",
              "        const element = document.querySelector('#df-5b651e3c-d555-4338-9967-5f9ee687f0ac');\n",
              "        const dataTable =\n",
              "          await google.colab.kernel.invokeFunction('convertToInteractive',\n",
              "                                                    [key], {});\n",
              "        if (!dataTable) return;\n",
              "\n",
              "        const docLinkHtml = 'Like what you see? Visit the ' +\n",
              "          '<a target=\"_blank\" href=https://colab.research.google.com/notebooks/data_table.ipynb>data table notebook</a>'\n",
              "          + ' to learn more about interactive tables.';\n",
              "        element.innerHTML = '';\n",
              "        dataTable['output_type'] = 'display_data';\n",
              "        await google.colab.output.renderOutput(dataTable, element);\n",
              "        const docLink = document.createElement('div');\n",
              "        docLink.innerHTML = docLinkHtml;\n",
              "        element.appendChild(docLink);\n",
              "      }\n",
              "    </script>\n",
              "  </div>\n",
              "\n",
              "\n",
              "<div id=\"df-aa579a61-80cf-4305-be12-48a3604acb2a\">\n",
              "  <button class=\"colab-df-quickchart\" onclick=\"quickchart('df-aa579a61-80cf-4305-be12-48a3604acb2a')\"\n",
              "            title=\"Suggest charts\"\n",
              "            style=\"display:none;\">\n",
              "\n",
              "<svg xmlns=\"http://www.w3.org/2000/svg\" height=\"24px\"viewBox=\"0 0 24 24\"\n",
              "     width=\"24px\">\n",
              "    <g>\n",
              "        <path d=\"M19 3H5c-1.1 0-2 .9-2 2v14c0 1.1.9 2 2 2h14c1.1 0 2-.9 2-2V5c0-1.1-.9-2-2-2zM9 17H7v-7h2v7zm4 0h-2V7h2v10zm4 0h-2v-4h2v4z\"/>\n",
              "    </g>\n",
              "</svg>\n",
              "  </button>\n",
              "\n",
              "<style>\n",
              "  .colab-df-quickchart {\n",
              "      --bg-color: #E8F0FE;\n",
              "      --fill-color: #1967D2;\n",
              "      --hover-bg-color: #E2EBFA;\n",
              "      --hover-fill-color: #174EA6;\n",
              "      --disabled-fill-color: #AAA;\n",
              "      --disabled-bg-color: #DDD;\n",
              "  }\n",
              "\n",
              "  [theme=dark] .colab-df-quickchart {\n",
              "      --bg-color: #3B4455;\n",
              "      --fill-color: #D2E3FC;\n",
              "      --hover-bg-color: #434B5C;\n",
              "      --hover-fill-color: #FFFFFF;\n",
              "      --disabled-bg-color: #3B4455;\n",
              "      --disabled-fill-color: #666;\n",
              "  }\n",
              "\n",
              "  .colab-df-quickchart {\n",
              "    background-color: var(--bg-color);\n",
              "    border: none;\n",
              "    border-radius: 50%;\n",
              "    cursor: pointer;\n",
              "    display: none;\n",
              "    fill: var(--fill-color);\n",
              "    height: 32px;\n",
              "    padding: 0;\n",
              "    width: 32px;\n",
              "  }\n",
              "\n",
              "  .colab-df-quickchart:hover {\n",
              "    background-color: var(--hover-bg-color);\n",
              "    box-shadow: 0 1px 2px rgba(60, 64, 67, 0.3), 0 1px 3px 1px rgba(60, 64, 67, 0.15);\n",
              "    fill: var(--button-hover-fill-color);\n",
              "  }\n",
              "\n",
              "  .colab-df-quickchart-complete:disabled,\n",
              "  .colab-df-quickchart-complete:disabled:hover {\n",
              "    background-color: var(--disabled-bg-color);\n",
              "    fill: var(--disabled-fill-color);\n",
              "    box-shadow: none;\n",
              "  }\n",
              "\n",
              "  .colab-df-spinner {\n",
              "    border: 2px solid var(--fill-color);\n",
              "    border-color: transparent;\n",
              "    border-bottom-color: var(--fill-color);\n",
              "    animation:\n",
              "      spin 1s steps(1) infinite;\n",
              "  }\n",
              "\n",
              "  @keyframes spin {\n",
              "    0% {\n",
              "      border-color: transparent;\n",
              "      border-bottom-color: var(--fill-color);\n",
              "      border-left-color: var(--fill-color);\n",
              "    }\n",
              "    20% {\n",
              "      border-color: transparent;\n",
              "      border-left-color: var(--fill-color);\n",
              "      border-top-color: var(--fill-color);\n",
              "    }\n",
              "    30% {\n",
              "      border-color: transparent;\n",
              "      border-left-color: var(--fill-color);\n",
              "      border-top-color: var(--fill-color);\n",
              "      border-right-color: var(--fill-color);\n",
              "    }\n",
              "    40% {\n",
              "      border-color: transparent;\n",
              "      border-right-color: var(--fill-color);\n",
              "      border-top-color: var(--fill-color);\n",
              "    }\n",
              "    60% {\n",
              "      border-color: transparent;\n",
              "      border-right-color: var(--fill-color);\n",
              "    }\n",
              "    80% {\n",
              "      border-color: transparent;\n",
              "      border-right-color: var(--fill-color);\n",
              "      border-bottom-color: var(--fill-color);\n",
              "    }\n",
              "    90% {\n",
              "      border-color: transparent;\n",
              "      border-bottom-color: var(--fill-color);\n",
              "    }\n",
              "  }\n",
              "</style>\n",
              "\n",
              "  <script>\n",
              "    async function quickchart(key) {\n",
              "      const quickchartButtonEl =\n",
              "        document.querySelector('#' + key + ' button');\n",
              "      quickchartButtonEl.disabled = true;  // To prevent multiple clicks.\n",
              "      quickchartButtonEl.classList.add('colab-df-spinner');\n",
              "      try {\n",
              "        const charts = await google.colab.kernel.invokeFunction(\n",
              "            'suggestCharts', [key], {});\n",
              "      } catch (error) {\n",
              "        console.error('Error during call to suggestCharts:', error);\n",
              "      }\n",
              "      quickchartButtonEl.classList.remove('colab-df-spinner');\n",
              "      quickchartButtonEl.classList.add('colab-df-quickchart-complete');\n",
              "    }\n",
              "    (() => {\n",
              "      let quickchartButtonEl =\n",
              "        document.querySelector('#df-aa579a61-80cf-4305-be12-48a3604acb2a button');\n",
              "      quickchartButtonEl.style.display =\n",
              "        google.colab.kernel.accessAllowed ? 'block' : 'none';\n",
              "    })();\n",
              "  </script>\n",
              "</div>\n",
              "\n",
              "    </div>\n",
              "  </div>\n"
            ],
            "application/vnd.google.colaboratory.intrinsic+json": {
              "type": "dataframe",
              "variable_name": "train_df",
              "summary": "{\n  \"name\": \"train_df\",\n  \"rows\": 2860,\n  \"fields\": [\n    {\n      \"column\": \"md5hash\",\n      \"properties\": {\n        \"dtype\": \"string\",\n        \"num_unique_values\": 2860,\n        \"samples\": [\n          \"3be5d580b67406152ee65b85d465db27.jpg\",\n          \"6cba1a3c302571165ea1d3f81f0ddf5b.jpg\",\n          \"50c46e531f7b08351275d5b36993dbbf.jpg\"\n        ],\n        \"semantic_type\": \"\",\n        \"description\": \"\"\n      }\n    },\n    {\n      \"column\": \"fitzpatrick_scale\",\n      \"properties\": {\n        \"dtype\": \"number\",\n        \"std\": 1,\n        \"min\": -1,\n        \"max\": 6,\n        \"num_unique_values\": 7,\n        \"samples\": [\n          4,\n          1,\n          -1\n        ],\n        \"semantic_type\": \"\",\n        \"description\": \"\"\n      }\n    },\n    {\n      \"column\": \"fitzpatrick_centaur\",\n      \"properties\": {\n        \"dtype\": \"number\",\n        \"std\": 1,\n        \"min\": -1,\n        \"max\": 6,\n        \"num_unique_values\": 7,\n        \"samples\": [\n          4,\n          1,\n          2\n        ],\n        \"semantic_type\": \"\",\n        \"description\": \"\"\n      }\n    },\n    {\n      \"column\": \"label\",\n      \"properties\": {\n        \"dtype\": \"category\",\n        \"num_unique_values\": 21,\n        \"samples\": [\n          \"prurigo-nodularis\",\n          \"kaposi-sarcoma\",\n          \"pyogenic-granuloma\"\n        ],\n        \"semantic_type\": \"\",\n        \"description\": \"\"\n      }\n    },\n    {\n      \"column\": \"nine_partition_label\",\n      \"properties\": {\n        \"dtype\": \"category\",\n        \"num_unique_values\": 7,\n        \"samples\": [\n          \"benign-epidermal\",\n          \"malignant-epidermal\",\n          \"benign-dermal\"\n        ],\n        \"semantic_type\": \"\",\n        \"description\": \"\"\n      }\n    },\n    {\n      \"column\": \"three_partition_label\",\n      \"properties\": {\n        \"dtype\": \"category\",\n        \"num_unique_values\": 3,\n        \"samples\": [\n          \"benign\",\n          \"malignant\",\n          \"non-neoplastic\"\n        ],\n        \"semantic_type\": \"\",\n        \"description\": \"\"\n      }\n    },\n    {\n      \"column\": \"qc\",\n      \"properties\": {\n        \"dtype\": \"category\",\n        \"num_unique_values\": 5,\n        \"samples\": [\n          \"3 Wrongly labelled\",\n          \"2 Characteristic\",\n          \"5 Potentially\"\n        ],\n        \"semantic_type\": \"\",\n        \"description\": \"\"\n      }\n    },\n    {\n      \"column\": \"ddi_scale\",\n      \"properties\": {\n        \"dtype\": \"number\",\n        \"std\": 15,\n        \"min\": -1,\n        \"max\": 56,\n        \"num_unique_values\": 4,\n        \"samples\": [\n          12,\n          -1,\n          34\n        ],\n        \"semantic_type\": \"\",\n        \"description\": \"\"\n      }\n    },\n    {\n      \"column\": \"file_path\",\n      \"properties\": {\n        \"dtype\": \"string\",\n        \"num_unique_values\": 2860,\n        \"samples\": [\n          \"prurigo-nodularis/3be5d580b67406152ee65b85d465db27.jpg\",\n          \"eczema/6cba1a3c302571165ea1d3f81f0ddf5b.jpg\",\n          \"keloid/50c46e531f7b08351275d5b36993dbbf.jpg\"\n        ],\n        \"semantic_type\": \"\",\n        \"description\": \"\"\n      }\n    }\n  ]\n}"
            }
          },
          "metadata": {},
          "execution_count": 7
        }
      ],
      "source": [
        "# Check the first few rows to understand the structure of the data set\n",
        "train_df.head()"
      ]
    },
    {
      "cell_type": "markdown",
      "metadata": {
        "id": "EOrP35XNl7IR"
      },
      "source": [
        "# Data Preprocessing"
      ]
    },
    {
      "cell_type": "code",
      "execution_count": 8,
      "metadata": {
        "colab": {
          "base_uri": "https://localhost:8080/"
        },
        "id": "vhdW-Nl7gMFk",
        "outputId": "1420394a-c82f-4b78-b48e-e7dc69de33b9"
      },
      "outputs": [
        {
          "output_type": "stream",
          "name": "stdout",
          "text": [
            "Label Mapping: {'acne': 0, 'acne-vulgaris': 1, 'actinic-keratosis': 2, 'basal-cell-carcinoma': 3, 'basal-cell-carcinoma-morpheiform': 4, 'dermatofibroma': 5, 'dermatomyositis': 6, 'dyshidrotic-eczema': 7, 'eczema': 8, 'epidermal-nevus': 9, 'folliculitis': 10, 'kaposi-sarcoma': 11, 'keloid': 12, 'malignant-melanoma': 13, 'melanoma': 14, 'mycosis-fungoides': 15, 'prurigo-nodularis': 16, 'pyogenic-granuloma': 17, 'seborrheic-keratosis': 18, 'squamous-cell-carcinoma': 19, 'superficial-spreading-melanoma-ssm': 20}\n"
          ]
        }
      ],
      "source": [
        "# 3. Data Preprocessing\n",
        "# Encode the labels\n",
        "label_encoder = LabelEncoder()\n",
        "train_df['encoded_label'] = label_encoder.fit_transform(train_df['label'])\n",
        "\n",
        "class_mapping = dict(zip(label_encoder.classes_, range(len(label_encoder.classes_))))\n",
        "print(\"Label Mapping:\", class_mapping)\n",
        "\n",
        "# Compute Class Weights for Imbalance\n",
        "class_weights = compute_class_weight(\n",
        "    class_weight=\"balanced\",\n",
        "    classes=np.unique(train_df['encoded_label']),\n",
        "    y=train_df['encoded_label']\n",
        ")\n",
        "class_weight_dict = {i: weight for i, weight in enumerate(class_weights)}\n",
        "\n",
        "# Split the data into training and validation sets\n",
        "train_data, val_data = train_test_split(train_df, test_size=0.2, random_state=42)\n",
        "\n",
        "# 5. Data Augmentation with ImageDataGenerator\n",
        "train_datagen = ImageDataGenerator(\n",
        "    rescale=1./255,\n",
        "    rotation_range=40,  # Increased rotation range\n",
        "    width_shift_range=0.2,\n",
        "    height_shift_range=0.2,\n",
        "    shear_range=0.2,\n",
        "    zoom_range=0.3,  # Slightly increased zoom\n",
        "    horizontal_flip=True,\n",
        "    brightness_range=[0.7, 1.3],  # Adjust brightness more\n",
        "    fill_mode='nearest'\n",
        ")\n",
        "val_datagen = ImageDataGenerator(rescale=1./255)\n",
        "\n",
        "# Define the directory paths\n",
        "train_dir = '/content/drive/MyDrive/VIR_AJL_Team_Selenium/Data/Pictures/train'"
      ]
    },
    {
      "cell_type": "code",
      "source": [
        "print(train_df['label'].unique())\n",
        "print (train_df['label'].nunique())"
      ],
      "metadata": {
        "colab": {
          "base_uri": "https://localhost:8080/"
        },
        "id": "tWBL_17JH97C",
        "outputId": "774f2fef-3147-4b26-de9e-8ea4f82282c2"
      },
      "execution_count": 9,
      "outputs": [
        {
          "output_type": "stream",
          "name": "stdout",
          "text": [
            "['prurigo-nodularis' 'basal-cell-carcinoma-morpheiform' 'keloid'\n",
            " 'basal-cell-carcinoma' 'seborrheic-keratosis' 'eczema' 'folliculitis'\n",
            " 'squamous-cell-carcinoma' 'actinic-keratosis' 'mycosis-fungoides'\n",
            " 'acne-vulgaris' 'dyshidrotic-eczema' 'melanoma' 'epidermal-nevus'\n",
            " 'malignant-melanoma' 'pyogenic-granuloma' 'dermatofibroma'\n",
            " 'kaposi-sarcoma' 'acne' 'dermatomyositis'\n",
            " 'superficial-spreading-melanoma-ssm']\n",
            "21\n"
          ]
        }
      ]
    },
    {
      "cell_type": "code",
      "source": [
        "train_df['encoded_label'] = train_df['encoded_label'].astype(int)\n",
        "val_data['encoded_label'] = val_data['encoded_label'].astype(int)"
      ],
      "metadata": {
        "id": "iEJLojpMH__q"
      },
      "execution_count": 10,
      "outputs": []
    },
    {
      "cell_type": "code",
      "execution_count": 11,
      "metadata": {
        "id": "b4MLklTngPkh"
      },
      "outputs": [],
      "source": [
        "def create_generator(dataframe, directory, batch_size=32, target_size=(128, 128), shuffle=True):\n",
        "    generator = train_datagen.flow_from_dataframe(\n",
        "        dataframe=dataframe,\n",
        "        directory=directory,\n",
        "        x_col='file_path',\n",
        "        y_col='encoded_label',\n",
        "        target_size=target_size,\n",
        "        batch_size=batch_size,\n",
        "        class_mode='raw',\n",
        "        shuffle=shuffle,\n",
        "        validate_filenames=False\n",
        "    )\n",
        "    return generator"
      ]
    },
    {
      "cell_type": "code",
      "source": [
        "# Create Training & Validation Generators\n",
        "train_generator = create_generator(train_data, train_dir)\n",
        "val_generator = create_generator(val_data, train_dir, shuffle=False)"
      ],
      "metadata": {
        "colab": {
          "base_uri": "https://localhost:8080/"
        },
        "id": "PalirhyTIF-E",
        "outputId": "82bbb631-fef4-4302-a9c1-89c9287a5670"
      },
      "execution_count": 12,
      "outputs": [
        {
          "output_type": "stream",
          "name": "stdout",
          "text": [
            "Found 2288 non-validated image filenames.\n",
            "Found 572 non-validated image filenames.\n"
          ]
        }
      ]
    },
    {
      "cell_type": "code",
      "source": [
        "base_model = ResNet50(weights='imagenet', include_top=False, input_shape=(128, 128, 3))\n",
        "\n",
        "# Freeze the layers of ResNet50 so we don't train them\n",
        "base_model.trainable = True\n",
        "\n",
        "# Build the full model by adding custom layers\n",
        "model = Sequential([\n",
        "    base_model,\n",
        "    Flatten(),\n",
        "    Dense(256, activation='relu'),  # Dense layer for classification\n",
        "    Dropout(0.5),  # Dropout to prevent overfitting\n",
        "    Dense(len(label_encoder.classes_), activation='softmax')  # Output layer with softmax\n",
        "])\n",
        "\n",
        "# Compile the model\n",
        "model.compile(optimizer='adam', loss='sparse_categorical_crossentropy', metrics=['accuracy'])"
      ],
      "metadata": {
        "id": "Akn7rYe6sdCb"
      },
      "execution_count": 13,
      "outputs": []
    },
    {
      "cell_type": "code",
      "source": [
        "early_stopping = EarlyStopping(monitor='val_loss', patience=5, restore_best_weights=True)\n",
        "reduce_lr = ReduceLROnPlateau(monitor='val_loss', factor=0.5, patience=3, min_lr=1e-6)\n",
        "\n",
        "# 10. Train the Model\n",
        "model.fit(\n",
        "    train_generator,\n",
        "    validation_data=val_generator,\n",
        "    epochs=30,  # Increased epochs for better learning\n",
        "    class_weight=class_weight_dict,\n",
        "    callbacks=[early_stopping, reduce_lr],\n",
        "    verbose=1\n",
        ")"
      ],
      "metadata": {
        "colab": {
          "base_uri": "https://localhost:8080/"
        },
        "id": "0d94fBUasmwQ",
        "outputId": "e295429e-9657-4ff0-c1f4-a18201232247"
      },
      "execution_count": 17,
      "outputs": [
        {
          "output_type": "stream",
          "name": "stdout",
          "text": [
            "Epoch 1/30\n",
            "\u001b[1m72/72\u001b[0m \u001b[32m━━━━━━━━━━━━━━━━━━━━\u001b[0m\u001b[37m\u001b[0m \u001b[1m731s\u001b[0m 10s/step - accuracy: 0.0626 - loss: 3.0306 - val_accuracy: 0.0385 - val_loss: 3.0660 - learning_rate: 5.0000e-04\n",
            "Epoch 2/30\n",
            "\u001b[1m72/72\u001b[0m \u001b[32m━━━━━━━━━━━━━━━━━━━━\u001b[0m\u001b[37m\u001b[0m \u001b[1m722s\u001b[0m 10s/step - accuracy: 0.0760 - loss: 3.0442 - val_accuracy: 0.0699 - val_loss: 3.0231 - learning_rate: 5.0000e-04\n",
            "Epoch 3/30\n",
            "\u001b[1m72/72\u001b[0m \u001b[32m━━━━━━━━━━━━━━━━━━━━\u001b[0m\u001b[37m\u001b[0m \u001b[1m716s\u001b[0m 10s/step - accuracy: 0.1093 - loss: 2.9957 - val_accuracy: 0.0979 - val_loss: 3.0368 - learning_rate: 5.0000e-04\n",
            "Epoch 4/30\n",
            "\u001b[1m72/72\u001b[0m \u001b[32m━━━━━━━━━━━━━━━━━━━━\u001b[0m\u001b[37m\u001b[0m \u001b[1m721s\u001b[0m 10s/step - accuracy: 0.0979 - loss: 3.0716 - val_accuracy: 0.0420 - val_loss: 3.0558 - learning_rate: 5.0000e-04\n",
            "Epoch 5/30\n",
            "\u001b[1m72/72\u001b[0m \u001b[32m━━━━━━━━━━━━━━━━━━━━\u001b[0m\u001b[37m\u001b[0m \u001b[1m721s\u001b[0m 10s/step - accuracy: 0.1239 - loss: 2.9030 - val_accuracy: 0.0175 - val_loss: 3.1689 - learning_rate: 5.0000e-04\n",
            "Epoch 6/30\n",
            "\u001b[1m72/72\u001b[0m \u001b[32m━━━━━━━━━━━━━━━━━━━━\u001b[0m\u001b[37m\u001b[0m \u001b[1m720s\u001b[0m 10s/step - accuracy: 0.1255 - loss: 2.8453 - val_accuracy: 0.0087 - val_loss: 3.1672 - learning_rate: 2.5000e-04\n",
            "Epoch 7/30\n",
            "\u001b[1m72/72\u001b[0m \u001b[32m━━━━━━━━━━━━━━━━━━━━\u001b[0m\u001b[37m\u001b[0m \u001b[1m750s\u001b[0m 10s/step - accuracy: 0.1397 - loss: 2.8492 - val_accuracy: 0.0122 - val_loss: 3.3688 - learning_rate: 2.5000e-04\n"
          ]
        },
        {
          "output_type": "execute_result",
          "data": {
            "text/plain": [
              "<keras.src.callbacks.history.History at 0x7efa6cfefe10>"
            ]
          },
          "metadata": {},
          "execution_count": 17
        }
      ]
    },
    {
      "cell_type": "code",
      "source": [
        "# 6. Make Predictions on Test Data\n",
        "test_df['file_path'] = test_df['md5hash']\n",
        "\n",
        "def preprocess_test_data(test_df, directory, target_size=(128, 128), batch_size=32):\n",
        "    \"\"\"\n",
        "    Loads and preprocesses test images.\n",
        "\n",
        "    Args:\n",
        "    - test_df: DataFrame containing test image file names.\n",
        "    - directory: Directory path where test images are stored.\n",
        "    - target_size: Image size (default: 128x128).\n",
        "    - batch_size: Number of images to process at a time.\n",
        "\n",
        "    Returns:\n",
        "    - test_generator: Preprocessed test data generator.\n",
        "    \"\"\"\n",
        "    test_datagen = ImageDataGenerator(rescale=1./255)  # Normalize pixel values\n",
        "\n",
        "    test_generator = test_datagen.flow_from_dataframe(\n",
        "        dataframe=test_df,\n",
        "        directory=directory,\n",
        "        x_col='file_path',\n",
        "        y_col=None,  # No labels for test data\n",
        "        target_size=target_size,\n",
        "        batch_size=batch_size,\n",
        "        class_mode=None,  # No labels since we are predicting\n",
        "        shuffle=False  # Keep order for correct result mapping\n",
        "    )\n",
        "\n",
        "    return test_generator"
      ],
      "metadata": {
        "id": "n5LllJ17zJ1H"
      },
      "execution_count": 18,
      "outputs": []
    },
    {
      "cell_type": "markdown",
      "metadata": {
        "id": "HEP-NDcUm4IX"
      },
      "source": [
        "# Model Development"
      ]
    },
    {
      "cell_type": "markdown",
      "metadata": {
        "id": "17kDT2_Gm_iV"
      },
      "source": [
        "# Model Evaluation"
      ]
    },
    {
      "cell_type": "code",
      "execution_count": 19,
      "metadata": {
        "colab": {
          "base_uri": "https://localhost:8080/"
        },
        "id": "OqJ8MDAjgZyk",
        "outputId": "54768936-af56-4b16-d007-0929819ad2e8"
      },
      "outputs": [
        {
          "output_type": "stream",
          "name": "stdout",
          "text": [
            "Found 1227 validated image filenames.\n"
          ]
        }
      ],
      "source": [
        "# Load test data\n",
        "test_dir = '/content/drive/MyDrive/VIR_AJL_Team_Selenium/Data/Pictures/test'\n",
        "test_generator = preprocess_test_data(test_df, test_dir)"
      ]
    },
    {
      "cell_type": "code",
      "execution_count": 20,
      "metadata": {
        "colab": {
          "base_uri": "https://localhost:8080/"
        },
        "id": "QMVZiRUr5LOP",
        "outputId": "949c2ece-bfe6-4b27-fa99-5de5d9aea974"
      },
      "outputs": [
        {
          "output_type": "stream",
          "name": "stderr",
          "text": [
            "/usr/local/lib/python3.11/dist-packages/keras/src/trainers/data_adapters/py_dataset_adapter.py:121: UserWarning: Your `PyDataset` class should call `super().__init__(**kwargs)` in its constructor. `**kwargs` can include `workers`, `use_multiprocessing`, `max_queue_size`. Do not pass these arguments to `fit()`, as they will be ignored.\n",
            "  self._warn_if_super_not_called()\n"
          ]
        },
        {
          "output_type": "stream",
          "name": "stdout",
          "text": [
            "\u001b[1m39/39\u001b[0m \u001b[32m━━━━━━━━━━━━━━━━━━━━\u001b[0m\u001b[37m\u001b[0m \u001b[1m83s\u001b[0m 2s/step\n"
          ]
        }
      ],
      "source": [
        "# Predict the labels on the validation set\n",
        "predictions = model.predict(test_generator)  # Model predictions\n",
        "predicted_labels = np.argmax(predictions, axis=1)  # Convert probabilities to class indices\n"
      ]
    },
    {
      "cell_type": "code",
      "source": [
        "# Map numeric labels back to original category names\n",
        "test_df['predicted_label'] = label_encoder.inverse_transform(predicted_labels)\n",
        "\n",
        "print(test_df[['md5hash', 'predicted_label']].head(10))\n"
      ],
      "metadata": {
        "colab": {
          "base_uri": "https://localhost:8080/"
        },
        "id": "lTIZdAVLFaUu",
        "outputId": "2771abff-12f8-42c2-e5f0-083fa78d047b"
      },
      "execution_count": 21,
      "outputs": [
        {
          "output_type": "stream",
          "name": "stdout",
          "text": [
            "                                md5hash predicted_label\n",
            "0  0844ae634f0e6e7ef1f73c2aeecbae0e.jpg   acne-vulgaris\n",
            "1  3b290d262098f761d719aa07cf36c040.jpg   acne-vulgaris\n",
            "2  cf561d08ac46d0fda678bff6621005ee.jpg   acne-vulgaris\n",
            "3  e6371069be05c6b0a95b4b3f1bacc9a5.jpg   acne-vulgaris\n",
            "4  f76cddb37265f97508f159078dcc7e7c.jpg   acne-vulgaris\n",
            "5  ed522f3617a30ab79fa11e140d442e2d.jpg   acne-vulgaris\n",
            "6  13aa2de8804ae601cd45c1c4cac9bc6f.jpg   acne-vulgaris\n",
            "7  76c6ff58a8babae647dcc37ea074939d.jpg   acne-vulgaris\n",
            "8  d04ce86b818b31edf84e54444ec97295.jpg   acne-vulgaris\n",
            "9  62c9e3126c690939ea356694a047d23b.jpg   acne-vulgaris\n"
          ]
        }
      ]
    },
    {
      "cell_type": "code",
      "source": [
        "from sklearn.metrics import classification_report\n",
        "\n",
        "# Predict on validation data\n",
        "val_predictions = model.predict(val_generator)\n",
        "\n",
        "# Convert softmax probabilities to class labels\n",
        "val_predicted_labels = np.argmax(val_predictions, axis=1)\n",
        "\n",
        "# True labels from validation set\n",
        "true_labels = val_generator.labels\n",
        "\n",
        "# Generate classification report\n",
        "report = classification_report(true_labels, val_predicted_labels)\n",
        "\n",
        "print(report)"
      ],
      "metadata": {
        "colab": {
          "base_uri": "https://localhost:8080/"
        },
        "id": "TSihGujrFdOK",
        "outputId": "c0413de2-e866-4707-d7fe-42b7b6d7177a"
      },
      "execution_count": 22,
      "outputs": [
        {
          "output_type": "stream",
          "name": "stdout",
          "text": [
            "\u001b[1m18/18\u001b[0m \u001b[32m━━━━━━━━━━━━━━━━━━━━\u001b[0m\u001b[37m\u001b[0m \u001b[1m45s\u001b[0m 2s/step\n",
            "              precision    recall  f1-score   support\n",
            "\n",
            "           0       0.00      0.00      0.00        25\n",
            "           1       0.07      1.00      0.13        40\n",
            "           2       0.00      0.00      0.00        24\n",
            "           3       0.00      0.00      0.00        59\n",
            "           4       0.00      0.00      0.00         7\n",
            "           5       0.00      0.00      0.00        11\n",
            "           6       0.00      0.00      0.00        24\n",
            "           7       0.00      0.00      0.00         8\n",
            "           8       0.00      0.00      0.00        26\n",
            "           9       0.00      0.00      0.00        15\n",
            "          10       0.00      0.00      0.00        55\n",
            "          11       0.00      0.00      0.00        25\n",
            "          12       0.00      0.00      0.00        22\n",
            "          13       0.00      0.00      0.00        17\n",
            "          14       0.00      0.00      0.00        35\n",
            "          15       0.00      0.00      0.00        20\n",
            "          16       0.00      0.00      0.00        25\n",
            "          17       0.00      0.00      0.00        16\n",
            "          18       0.00      0.00      0.00         5\n",
            "          19       0.00      0.00      0.00        96\n",
            "          20       0.00      0.00      0.00        17\n",
            "\n",
            "    accuracy                           0.07       572\n",
            "   macro avg       0.00      0.05      0.01       572\n",
            "weighted avg       0.00      0.07      0.01       572\n",
            "\n"
          ]
        },
        {
          "output_type": "stream",
          "name": "stderr",
          "text": [
            "/usr/local/lib/python3.11/dist-packages/sklearn/metrics/_classification.py:1565: UndefinedMetricWarning: Precision is ill-defined and being set to 0.0 in labels with no predicted samples. Use `zero_division` parameter to control this behavior.\n",
            "  _warn_prf(average, modifier, f\"{metric.capitalize()} is\", len(result))\n",
            "/usr/local/lib/python3.11/dist-packages/sklearn/metrics/_classification.py:1565: UndefinedMetricWarning: Precision is ill-defined and being set to 0.0 in labels with no predicted samples. Use `zero_division` parameter to control this behavior.\n",
            "  _warn_prf(average, modifier, f\"{metric.capitalize()} is\", len(result))\n",
            "/usr/local/lib/python3.11/dist-packages/sklearn/metrics/_classification.py:1565: UndefinedMetricWarning: Precision is ill-defined and being set to 0.0 in labels with no predicted samples. Use `zero_division` parameter to control this behavior.\n",
            "  _warn_prf(average, modifier, f\"{metric.capitalize()} is\", len(result))\n"
          ]
        }
      ]
    }
  ],
  "metadata": {
    "colab": {
      "provenance": []
    },
    "kernelspec": {
      "display_name": "Python 3",
      "name": "python3"
    },
    "language_info": {
      "name": "python"
    }
  },
  "nbformat": 4,
  "nbformat_minor": 0
}